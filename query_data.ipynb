{
 "cells": [
  {
   "cell_type": "code",
   "execution_count": 2,
   "metadata": {},
   "outputs": [],
   "source": [
    "import pymssql\n",
    "import configparser\n",
    "import numpy as np\n",
    "import pandas as pd"
   ]
  },
  {
   "cell_type": "code",
   "execution_count": 3,
   "metadata": {},
   "outputs": [],
   "source": [
    "config = configparser.ConfigParser()\n",
    "config.read('db_config.ini')\n",
    "\n",
    "db_host = config['database']['host']\n",
    "db_user = config['database']['user']\n",
    "db_password = config['database']['password']\n",
    "db_name = config['database']['dbname']\n",
    "\n",
    "sql_conn = pymssql.connect(db_host, db_user, db_password, db_name)\n",
    "cursor = sql_conn.cursor(as_dict=True)"
   ]
  },
  {
   "cell_type": "code",
   "execution_count": 4,
   "metadata": {},
   "outputs": [],
   "source": [
    "def get_data(sql_conn, query):\n",
    "    cursor = sql_conn.cursor(as_dict=True)\n",
    "    cursor.execute(query)\n",
    "    results = cursor.fetchall()\n",
    "    columns = [column[0] for column in cursor.description]\n",
    "    df = pd.DataFrame(results, columns=columns)\n",
    "    return df"
   ]
  },
  {
   "cell_type": "code",
   "execution_count": 5,
   "metadata": {},
   "outputs": [],
   "source": [
    "def run_query(sql_conn, query):\n",
    "    cursor = sql_conn.cursor(as_dict=True)\n",
    "    cursor.execute(query)\n",
    "    return None"
   ]
  },
  {
   "cell_type": "code",
   "execution_count": 6,
   "metadata": {},
   "outputs": [],
   "source": [
    "query = \"\"\"\n",
    "SELECT [person_id]\n",
    "      ,MIN([condition_start_date]) AS [first_visit_date]\n",
    "      ,MAX([condition_start_date]) AS [last_visit_date]\n",
    "      ,COUNT([visit_occurrence_id]) AS [n_visits]\n",
    "FROM [condition_occurrence]\n",
    "WHERE [condition_concept_id] IN (35207170)\n",
    "GROUP BY [person_id]\n",
    "HAVING COUNT([visit_occurrence_id]) >= 1\n",
    "\"\"\"\n",
    "all_subjects = get_data(sql_conn, query)"
   ]
  },
  {
   "cell_type": "code",
   "execution_count": null,
   "metadata": {},
   "outputs": [],
   "source": [
    "all_subjects.to_feather(\"all_subjects.feather\")"
   ]
  },
  {
   "cell_type": "code",
   "execution_count": 7,
   "metadata": {},
   "outputs": [],
   "source": [
    "subject_ids = all_subjects.person_id.tolist()\n",
    "subject_ids = '), ('.join([str(subject_ids) for subject_ids in subject_ids])\n",
    "subject_ids = '(' + subject_ids + ')'\n",
    "subject_ids = subject_ids.split(', ')"
   ]
  },
  {
   "cell_type": "code",
   "execution_count": 10,
   "metadata": {},
   "outputs": [],
   "source": [
    "query = f\"\"\"\n",
    "CREATE TABLE #temp_person_ids (person_id INT);\n",
    "\"\"\"\n",
    "\n",
    "for subject_id in subject_ids:\n",
    "    query += f\"\"\"\n",
    "INSERT INTO #temp_person_ids (person_id)\n",
    "VALUES {subject_id};\n",
    "\"\"\"\n",
    "run_query(sql_conn, query)"
   ]
  },
  {
   "cell_type": "code",
   "execution_count": 11,
   "metadata": {},
   "outputs": [],
   "source": [
    "query = f\"\"\"\n",
    "SELECT *\n",
    "FROM [OMOP_DEID].[dbo].[condition_occurrence]\n",
    "WHERE [person_id] IN (SELECT person_id FROM #temp_person_ids);\n",
    "\"\"\"\n",
    "conditions = get_data(sql_conn, query)"
   ]
  },
  {
   "cell_type": "code",
   "execution_count": null,
   "metadata": {},
   "outputs": [],
   "source": [
    "conditions.to_feather(\"conditions.feather\")"
   ]
  },
  {
   "cell_type": "code",
   "execution_count": null,
   "metadata": {},
   "outputs": [],
   "source": [
    "query = f\"\"\"\n",
    "SELECT *\n",
    "FROM [OMOP_DEID].[dbo].[drug_exposure]\n",
    "WHERE [person_id] IN (SELECT person_id FROM #temp_person_ids);\n",
    "\"\"\"\n",
    "drugs = get_data(sql_conn, query)"
   ]
  },
  {
   "cell_type": "code",
   "execution_count": null,
   "metadata": {},
   "outputs": [],
   "source": [
    "drugs.to_feather(\"conditions.feather\")"
   ]
  },
  {
   "cell_type": "code",
   "execution_count": 12,
   "metadata": {},
   "outputs": [],
   "source": [
    "query = f\"\"\"\n",
    "SELECT *\n",
    "FROM [OMOP_DEID].[dbo].[person]\n",
    "WHERE [person_id] IN (SELECT person_id FROM #temp_person_ids);\n",
    "\"\"\"\n",
    "subject_details = get_data(sql_conn, query)"
   ]
  },
  {
   "cell_type": "code",
   "execution_count": 15,
   "metadata": {},
   "outputs": [],
   "source": [
    "subject_details.to_feather(\"subject_details.feather\")"
   ]
  }
 ],
 "metadata": {
  "kernelspec": {
   "display_name": "mssql",
   "language": "python",
   "name": "python3"
  },
  "language_info": {
   "codemirror_mode": {
    "name": "ipython",
    "version": 3
   },
   "file_extension": ".py",
   "mimetype": "text/x-python",
   "name": "python",
   "nbconvert_exporter": "python",
   "pygments_lexer": "ipython3",
   "version": "3.9.13"
  }
 },
 "nbformat": 4,
 "nbformat_minor": 2
}
