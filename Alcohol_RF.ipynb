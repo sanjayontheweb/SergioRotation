{
 "cells": [
  {
   "cell_type": "code",
   "execution_count": 1,
   "metadata": {},
   "outputs": [
    {
     "name": "stderr",
     "output_type": "stream",
     "text": [
      "/pool0/home/sanjay.r/anaconda3/envs/sergio_rotation/lib/python3.9/site-packages/tqdm/auto.py:21: TqdmWarning: IProgress not found. Please update jupyter and ipywidgets. See https://ipywidgets.readthedocs.io/en/stable/user_install.html\n",
      "  from .autonotebook import tqdm as notebook_tqdm\n"
     ]
    }
   ],
   "source": [
    "import pandas as pd\n",
    "import numpy as np\n",
    "from sklearn.ensemble import AdaBoostClassifier\n",
    "from sklearn.ensemble import RandomForestClassifier\n",
    "import matplotlib.pyplot as plt\n",
    "from sklearn.decomposition import PCA\n",
    "import umap\n",
    "\n",
    "from sklearn.model_selection import train_test_split\n",
    "from sklearn.metrics import accuracy_score\n",
    "from joblib import dump, load\n"
   ]
  },
  {
   "cell_type": "markdown",
   "metadata": {},
   "source": [
    "# Assemble table to train on in Pandas"
   ]
  },
  {
   "cell_type": "code",
   "execution_count": 4,
   "metadata": {},
   "outputs": [],
   "source": [
    "#Load node information\n",
    "sp_columns = np.load('../../psev_repo/PSEV_SPOKE_node_map')\n",
    "sp_columns = np.array([x.decode('utf-8') if isinstance(x, bytes) else x for x in sp_columns])\n",
    "\n",
    "node_type = np.load('../../psev_repo/node_type_list.npy')\n",
    "node_type = [x.decode('utf-8') if isinstance(x, bytes) else x for x in node_type]\n",
    "node_type = pd.DataFrame({\n",
    "    'node': sp_columns,\n",
    "    'type': node_type\n",
    "})\n",
    "\n",
    "unique_node_types = node_type['type'].unique()"
   ]
  },
  {
   "cell_type": "code",
   "execution_count": 5,
   "metadata": {},
   "outputs": [],
   "source": [
    "#First load the general top 30% PSEVs\n",
    "\n",
    "pat_ids = np.load('data/alc_psevs/person_id_index.npy')\n",
    "columns = np.load('data/alc_psevs/filtered_patient_psevs_columns.npy', allow_pickle=True)\n",
    "psevs = np.load('data/alc_psevs/filtered_patient_psevs.npy')\n",
    "\n",
    "full_bio_cohort = pd.read_feather('data/alc_cohort_details.feather')\n",
    "full_bio_cohort['dependent'] = full_bio_cohort['most_frequent_condition'].notna()\n",
    "label_dict = dict(zip(full_bio_cohort[\"person_id\"], full_bio_cohort[\"dependent\"]))\n",
    "\n",
    "#Now load the node specific ones\n",
    "\n",
    "# Initialize empty arrays for columns and psevs\n",
    "nt_columns = None\n",
    "nt_psevs = None\n",
    "\n",
    "for nt in unique_node_types:\n",
    "    ind_nt_psevs = np.load(f'data/alc_nt_psevs/filtered_patient_psevs_{nt}.npy')\n",
    "    ind_nt_columns = np.load(f'data/alc_nt_psevs/filtered_patient_psevs_columns_{nt}.npy', allow_pickle=True)\n",
    "\n",
    "    # Concatenate columns and psevs\n",
    "    if nt_columns is None:\n",
    "        nt_columns = ind_nt_columns\n",
    "    else:\n",
    "        nt_columns = np.concatenate((nt_columns, ind_nt_columns))  # Add new columns\n",
    "\n",
    "    if nt_psevs is None:\n",
    "        nt_psevs = ind_nt_psevs\n",
    "    else:\n",
    "        nt_psevs = np.hstack((nt_psevs, ind_nt_psevs))  # Add new data horizontally"
   ]
  },
  {
   "cell_type": "code",
   "execution_count": 6,
   "metadata": {},
   "outputs": [
    {
     "data": {
      "text/plain": [
       "(24951, 116357)"
      ]
     },
     "execution_count": 6,
     "metadata": {},
     "output_type": "execute_result"
    }
   ],
   "source": [
    "psevs.shape"
   ]
  },
  {
   "cell_type": "code",
   "execution_count": 7,
   "metadata": {},
   "outputs": [
    {
     "data": {
      "text/plain": [
       "(116357,)"
      ]
     },
     "execution_count": 7,
     "metadata": {},
     "output_type": "execute_result"
    }
   ],
   "source": [
    "columns.shape"
   ]
  },
  {
   "cell_type": "code",
   "execution_count": 8,
   "metadata": {},
   "outputs": [
    {
     "data": {
      "text/plain": [
       "(116778,)"
      ]
     },
     "execution_count": 8,
     "metadata": {},
     "output_type": "execute_result"
    }
   ],
   "source": [
    "nt_columns.shape"
   ]
  },
  {
   "cell_type": "code",
   "execution_count": 9,
   "metadata": {},
   "outputs": [],
   "source": [
    "#Format tables for RF\n",
    "Y = np.array([label_dict[pid] for pid in pat_ids if pid in label_dict])\n",
    "X = psevs\n",
    "nt_X = nt_psevs"
   ]
  },
  {
   "cell_type": "code",
   "execution_count": 10,
   "metadata": {},
   "outputs": [
    {
     "data": {
      "text/plain": [
       "array([[7.56050440e-06, 8.08882692e-06, 7.27053475e-06, ...,\n",
       "        7.12677252e-06, 7.16525892e-06, 7.60939338e-06],\n",
       "       [9.97108918e-06, 1.08293953e-05, 9.91531033e-06, ...,\n",
       "        9.91846969e-06, 9.98264409e-06, 9.95641790e-06],\n",
       "       [6.27657885e-05, 6.56307018e-05, 6.34117798e-05, ...,\n",
       "        6.25746211e-05, 6.32389849e-05, 6.19102709e-05],\n",
       "       ...,\n",
       "       [2.43875979e-06, 2.60675620e-06, 2.47973094e-06, ...,\n",
       "        2.52148834e-06, 2.54762858e-06, 2.43738737e-06],\n",
       "       [2.57553620e-06, 3.52608549e-06, 2.57461124e-06, ...,\n",
       "        2.45108822e-06, 2.49711729e-06, 2.39350766e-06],\n",
       "       [7.47761783e-06, 8.17553428e-06, 7.34012406e-06, ...,\n",
       "        7.33639581e-06, 7.44074714e-06, 7.15209262e-06]])"
      ]
     },
     "execution_count": 10,
     "metadata": {},
     "output_type": "execute_result"
    }
   ],
   "source": [
    "nt_X"
   ]
  },
  {
   "cell_type": "markdown",
   "metadata": {},
   "source": [
    "# Train RF"
   ]
  },
  {
   "cell_type": "code",
   "execution_count": 11,
   "metadata": {},
   "outputs": [],
   "source": [
    "def runGenericRF(X, Y, name):\n",
    "    # Split data into training and testing sets (80% train, 20% test)\n",
    "    X_train, X_test, Y_train, Y_test = train_test_split(X, Y, test_size=0.2, random_state=42)\n",
    "\n",
    "    # Initialize the Random Forest classifier\n",
    "    rf_clf = RandomForestClassifier(n_estimators=100, max_features=int(np.sqrt(X.shape[1])), random_state=42)\n",
    "\n",
    "    # Train the model on the training data\n",
    "    rf_clf.fit(X_train, Y_train)\n",
    "\n",
    "    # Predict on the test data\n",
    "    Y_pred = rf_clf.predict(X_test)\n",
    "\n",
    "    # Calculate accuracy\n",
    "    accuracy = accuracy_score(Y_test, Y_pred)\n",
    "    print(f\"{name} Model accuracy: {accuracy:.2f}\")\n",
    "\n",
    "    dump(rf_clf, f'models/alcohol_rf_model_{name}.joblib')\n",
    "\n",
    "    return accuracy, rf_clf"
   ]
  },
  {
   "cell_type": "code",
   "execution_count": 12,
   "metadata": {},
   "outputs": [
    {
     "name": "stdout",
     "output_type": "stream",
     "text": [
      "general Model accuracy: 0.89\n",
      "nt Model accuracy: 0.96\n"
     ]
    }
   ],
   "source": [
    "accuracy_general, model_general = runGenericRF(X, Y, \"general\")\n",
    "\n",
    "accuracy_nt, model_nt = runGenericRF(nt_X, Y, \"nt\")"
   ]
  },
  {
   "cell_type": "markdown",
   "metadata": {},
   "source": [
    "# Interpret results"
   ]
  },
  {
   "cell_type": "code",
   "execution_count": 7,
   "metadata": {},
   "outputs": [],
   "source": [
    "# Load here\n",
    "model_general = load('models/alcohol_rf_model_general.joblib')\n",
    "model_nt = load('models/alcohol_rf_model_nt.joblib')"
   ]
  },
  {
   "cell_type": "code",
   "execution_count": 8,
   "metadata": {},
   "outputs": [],
   "source": [
    "#Load node information\n",
    "\n",
    "spoke = np.load('../../psev_repo/PSEV_matrix')\n",
    "sep = np.load('../../psev_repo/PSEV_SEP_map')\n",
    "spoke_node = np.load('../../psev_repo/PSEV_SPOKE_node_map')\n",
    "\n",
    "spoke = pd.DataFrame(spoke, columns=spoke_node)\n",
    "spoke.index = sep\n",
    "spoke.index = spoke.index.map(lambda x: x.decode('utf-8') if isinstance(x, bytes) else x)\n",
    "spoke.columns = spoke.columns.map(lambda x: x.decode('utf-8') if isinstance(x, bytes) else x)\n",
    "\n",
    "node_type = np.load('../../psev_repo/node_type_list.npy')\n",
    "node_type = [x.decode('utf-8') if isinstance(x, bytes) else x for x in node_type]\n",
    "node_type = pd.DataFrame({\n",
    "    'node': spoke.columns,\n",
    "    'type': node_type\n",
    "})\n",
    "\n",
    "unique_node_types = node_type['type'].unique()"
   ]
  },
  {
   "cell_type": "code",
   "execution_count": 9,
   "metadata": {},
   "outputs": [],
   "source": [
    "#Translating conditions\n",
    "# disease_annotation = pd.read_csv('../../psev_repo/omop_sep_map/filtered_omop_conditions_to_spoke_extended_2.tsv', sep = '\\t')\n",
    "\n",
    "disease_annotation = pd.read_csv('../../gbellucci/spoke_linkers/omop2spoke_combined.tsv', sep = '\\t')\n",
    "disease_annotation.rename(columns={'OMOP': 'condition_concept_id'}, inplace=True)\n",
    "disease_annotation.rename(columns={'SPOKE': 'spoke_concept_id'}, inplace=True)\n",
    "\n",
    "spoke_to_omop_dict = dict(zip(disease_annotation['spoke_concept_id'], disease_annotation['condition_concept_id']))\n",
    "\n",
    "\n",
    "#Translating Drugs\n",
    "drug_annotation = pd.read_csv('../../psev_repo/omop_sep_map/filtered_omop_drug_exposure_to_spoke_extended.tsv', sep = '\\t')\n",
    "drug_annotation.rename(columns={'OMOP': 'condition_concept_id'}, inplace=True)\n",
    "drug_annotation.rename(columns={'SPOKE': 'spoke_concept_id'}, inplace=True)\n",
    "\n",
    "spoke_to_omop_dict.update(dict(zip(drug_annotation['spoke_concept_id'], drug_annotation['condition_concept_id'])))\n",
    "\n",
    "\n",
    "#Translating measurements\n",
    "lab_annotation = pd.read_csv('../../psev_repo/omop_sep_map/filtered_omop_measurement_to_spoke_extended.tsv', sep = '\\t')\n",
    "lab_annotation.rename(columns={'OMOP': 'condition_concept_id'}, inplace=True)\n",
    "lab_annotation.rename(columns={'SPOKE': 'spoke_concept_id'}, inplace=True)\n",
    "\n",
    "spoke_to_omop_dict.update(dict(zip(lab_annotation['spoke_concept_id'], lab_annotation['condition_concept_id'])))\n"
   ]
  },
  {
   "cell_type": "code",
   "execution_count": 10,
   "metadata": {},
   "outputs": [],
   "source": [
    "#Reload the columns\n",
    "columns = np.load('data/alc_psevs/filtered_patient_psevs_columns.npy', allow_pickle=True)\n",
    "nt_columns = None\n",
    "\n",
    "for nt in unique_node_types:\n",
    "    ind_nt_columns = np.load(f'data/alc_nt_psevs/filtered_patient_psevs_columns_{nt}.npy', allow_pickle=True)\n",
    "\n",
    "    # Concatenate columns and psevs\n",
    "    if nt_columns is None:\n",
    "        nt_columns = ind_nt_columns\n",
    "    else:\n",
    "        nt_columns = np.concatenate((nt_columns, ind_nt_columns))  # Add new columns"
   ]
  },
  {
   "cell_type": "code",
   "execution_count": 11,
   "metadata": {},
   "outputs": [],
   "source": [
    "feature_importance_df = pd.DataFrame({\n",
    "        'feature': columns,\n",
    "        'importance': model_general.feature_importances_\n",
    "    })\n",
    "    \n",
    "feature_importance_df = pd.merge(feature_importance_df, node_type, left_on = \"feature\", right_on = \"node\").drop(\"feature\", axis = 1).sort_values(by = 'importance', ascending = False)\n",
    "feature_importance_df['omop'] = feature_importance_df['node'].map(spoke_to_omop_dict)\n",
    "\n",
    "nt_feature_importance_df = pd.DataFrame({\n",
    "        'feature': nt_columns,\n",
    "        'importance': model_nt.feature_importances_\n",
    "    })\n",
    "    \n",
    "nt_feature_importance_df = pd.merge(nt_feature_importance_df, node_type, left_on = \"feature\", right_on = \"node\").drop(\"feature\", axis = 1).sort_values(by = 'importance', ascending = False)\n",
    "nt_feature_importance_df['omop'] = nt_feature_importance_df['node'].map(spoke_to_omop_dict)"
   ]
  },
  {
   "cell_type": "code",
   "execution_count": 18,
   "metadata": {},
   "outputs": [
    {
     "data": {
      "text/html": [
       "<div>\n",
       "<style scoped>\n",
       "    .dataframe tbody tr th:only-of-type {\n",
       "        vertical-align: middle;\n",
       "    }\n",
       "\n",
       "    .dataframe tbody tr th {\n",
       "        vertical-align: top;\n",
       "    }\n",
       "\n",
       "    .dataframe thead th {\n",
       "        text-align: right;\n",
       "    }\n",
       "</style>\n",
       "<table border=\"1\" class=\"dataframe\">\n",
       "  <thead>\n",
       "    <tr style=\"text-align: right;\">\n",
       "      <th></th>\n",
       "      <th>importance</th>\n",
       "      <th>node</th>\n",
       "      <th>omop</th>\n",
       "    </tr>\n",
       "    <tr>\n",
       "      <th>type</th>\n",
       "      <th></th>\n",
       "      <th></th>\n",
       "      <th></th>\n",
       "    </tr>\n",
       "  </thead>\n",
       "  <tbody>\n",
       "    <tr>\n",
       "      <th>Compound</th>\n",
       "      <td>108827</td>\n",
       "      <td>108827</td>\n",
       "      <td>24</td>\n",
       "    </tr>\n",
       "    <tr>\n",
       "      <th>Disease</th>\n",
       "      <td>25</td>\n",
       "      <td>25</td>\n",
       "      <td>7</td>\n",
       "    </tr>\n",
       "    <tr>\n",
       "      <th>Gene</th>\n",
       "      <td>22</td>\n",
       "      <td>22</td>\n",
       "      <td>0</td>\n",
       "    </tr>\n",
       "    <tr>\n",
       "      <th>PharmacologicClass</th>\n",
       "      <td>122</td>\n",
       "      <td>122</td>\n",
       "      <td>0</td>\n",
       "    </tr>\n",
       "    <tr>\n",
       "      <th>Protein</th>\n",
       "      <td>7360</td>\n",
       "      <td>7360</td>\n",
       "      <td>0</td>\n",
       "    </tr>\n",
       "    <tr>\n",
       "      <th>Symptom</th>\n",
       "      <td>1</td>\n",
       "      <td>1</td>\n",
       "      <td>0</td>\n",
       "    </tr>\n",
       "  </tbody>\n",
       "</table>\n",
       "</div>"
      ],
      "text/plain": [
       "                    importance    node  omop\n",
       "type                                        \n",
       "Compound                108827  108827    24\n",
       "Disease                     25      25     7\n",
       "Gene                        22      22     0\n",
       "PharmacologicClass         122     122     0\n",
       "Protein                   7360    7360     0\n",
       "Symptom                      1       1     0"
      ]
     },
     "execution_count": 18,
     "metadata": {},
     "output_type": "execute_result"
    }
   ],
   "source": [
    "feature_importance_df.groupby('type').count()"
   ]
  },
  {
   "cell_type": "code",
   "execution_count": 16,
   "metadata": {},
   "outputs": [
    {
     "data": {
      "text/html": [
       "<div>\n",
       "<style scoped>\n",
       "    .dataframe tbody tr th:only-of-type {\n",
       "        vertical-align: middle;\n",
       "    }\n",
       "\n",
       "    .dataframe tbody tr th {\n",
       "        vertical-align: top;\n",
       "    }\n",
       "\n",
       "    .dataframe thead th {\n",
       "        text-align: right;\n",
       "    }\n",
       "</style>\n",
       "<table border=\"1\" class=\"dataframe\">\n",
       "  <thead>\n",
       "    <tr style=\"text-align: right;\">\n",
       "      <th></th>\n",
       "      <th>importance</th>\n",
       "      <th>node</th>\n",
       "      <th>omop</th>\n",
       "    </tr>\n",
       "    <tr>\n",
       "      <th>type</th>\n",
       "      <th></th>\n",
       "      <th></th>\n",
       "      <th></th>\n",
       "    </tr>\n",
       "  </thead>\n",
       "  <tbody>\n",
       "    <tr>\n",
       "      <th>Anatomy</th>\n",
       "      <td>3974</td>\n",
       "      <td>3974</td>\n",
       "      <td>17</td>\n",
       "    </tr>\n",
       "    <tr>\n",
       "      <th>BiologicalProcess</th>\n",
       "      <td>3947</td>\n",
       "      <td>3947</td>\n",
       "      <td>6</td>\n",
       "    </tr>\n",
       "    <tr>\n",
       "      <th>CellularComponent</th>\n",
       "      <td>518</td>\n",
       "      <td>518</td>\n",
       "      <td>3</td>\n",
       "    </tr>\n",
       "    <tr>\n",
       "      <th>Compound</th>\n",
       "      <td>86027</td>\n",
       "      <td>86027</td>\n",
       "      <td>14</td>\n",
       "    </tr>\n",
       "    <tr>\n",
       "      <th>Disease</th>\n",
       "      <td>2739</td>\n",
       "      <td>2739</td>\n",
       "      <td>2050</td>\n",
       "    </tr>\n",
       "    <tr>\n",
       "      <th>Gene</th>\n",
       "      <td>5870</td>\n",
       "      <td>5870</td>\n",
       "      <td>28</td>\n",
       "    </tr>\n",
       "    <tr>\n",
       "      <th>MolecularFunction</th>\n",
       "      <td>1022</td>\n",
       "      <td>1022</td>\n",
       "      <td>1</td>\n",
       "    </tr>\n",
       "    <tr>\n",
       "      <th>Pathway</th>\n",
       "      <td>729</td>\n",
       "      <td>729</td>\n",
       "      <td>0</td>\n",
       "    </tr>\n",
       "    <tr>\n",
       "      <th>PharmacologicClass</th>\n",
       "      <td>524</td>\n",
       "      <td>524</td>\n",
       "      <td>4</td>\n",
       "    </tr>\n",
       "    <tr>\n",
       "      <th>Protein</th>\n",
       "      <td>10157</td>\n",
       "      <td>10157</td>\n",
       "      <td>0</td>\n",
       "    </tr>\n",
       "    <tr>\n",
       "      <th>SideEffect</th>\n",
       "      <td>1160</td>\n",
       "      <td>1160</td>\n",
       "      <td>422</td>\n",
       "    </tr>\n",
       "    <tr>\n",
       "      <th>Symptom</th>\n",
       "      <td>111</td>\n",
       "      <td>111</td>\n",
       "      <td>58</td>\n",
       "    </tr>\n",
       "  </tbody>\n",
       "</table>\n",
       "</div>"
      ],
      "text/plain": [
       "                    importance   node  omop\n",
       "type                                       \n",
       "Anatomy                   3974   3974    17\n",
       "BiologicalProcess         3947   3947     6\n",
       "CellularComponent          518    518     3\n",
       "Compound                 86027  86027    14\n",
       "Disease                   2739   2739  2050\n",
       "Gene                      5870   5870    28\n",
       "MolecularFunction         1022   1022     1\n",
       "Pathway                    729    729     0\n",
       "PharmacologicClass         524    524     4\n",
       "Protein                  10157  10157     0\n",
       "SideEffect                1160   1160   422\n",
       "Symptom                    111    111    58"
      ]
     },
     "execution_count": 16,
     "metadata": {},
     "output_type": "execute_result"
    }
   ],
   "source": [
    "nt_feature_importance_df.groupby('type').count()"
   ]
  },
  {
   "cell_type": "code",
   "execution_count": 19,
   "metadata": {},
   "outputs": [
    {
     "data": {
      "text/html": [
       "<div>\n",
       "<style scoped>\n",
       "    .dataframe tbody tr th:only-of-type {\n",
       "        vertical-align: middle;\n",
       "    }\n",
       "\n",
       "    .dataframe tbody tr th {\n",
       "        vertical-align: top;\n",
       "    }\n",
       "\n",
       "    .dataframe thead th {\n",
       "        text-align: right;\n",
       "    }\n",
       "</style>\n",
       "<table border=\"1\" class=\"dataframe\">\n",
       "  <thead>\n",
       "    <tr style=\"text-align: right;\">\n",
       "      <th></th>\n",
       "      <th>importance</th>\n",
       "      <th>node</th>\n",
       "      <th>type</th>\n",
       "    </tr>\n",
       "  </thead>\n",
       "  <tbody>\n",
       "    <tr>\n",
       "      <th>95</th>\n",
       "      <td>0.005228</td>\n",
       "      <td>A2A368</td>\n",
       "      <td>Protein</td>\n",
       "    </tr>\n",
       "    <tr>\n",
       "      <th>40978</th>\n",
       "      <td>0.005007</td>\n",
       "      <td>CHEMBL2146121</td>\n",
       "      <td>Compound</td>\n",
       "    </tr>\n",
       "    <tr>\n",
       "      <th>108997</th>\n",
       "      <td>0.004731</td>\n",
       "      <td>DB00704</td>\n",
       "      <td>Compound</td>\n",
       "    </tr>\n",
       "    <tr>\n",
       "      <th>25693</th>\n",
       "      <td>0.003411</td>\n",
       "      <td>CHEMBL1830698</td>\n",
       "      <td>Compound</td>\n",
       "    </tr>\n",
       "    <tr>\n",
       "      <th>7606</th>\n",
       "      <td>0.003267</td>\n",
       "      <td>CHEMBL1209746</td>\n",
       "      <td>Compound</td>\n",
       "    </tr>\n",
       "    <tr>\n",
       "      <th>...</th>\n",
       "      <td>...</td>\n",
       "      <td>...</td>\n",
       "      <td>...</td>\n",
       "    </tr>\n",
       "    <tr>\n",
       "      <th>23851</th>\n",
       "      <td>0.000347</td>\n",
       "      <td>CHEMBL1807813</td>\n",
       "      <td>Compound</td>\n",
       "    </tr>\n",
       "    <tr>\n",
       "      <th>49817</th>\n",
       "      <td>0.000346</td>\n",
       "      <td>CHEMBL2332365</td>\n",
       "      <td>Compound</td>\n",
       "    </tr>\n",
       "    <tr>\n",
       "      <th>6651</th>\n",
       "      <td>0.000346</td>\n",
       "      <td>CHEMBL1173701</td>\n",
       "      <td>Compound</td>\n",
       "    </tr>\n",
       "    <tr>\n",
       "      <th>19832</th>\n",
       "      <td>0.000344</td>\n",
       "      <td>CHEMBL1738804</td>\n",
       "      <td>Compound</td>\n",
       "    </tr>\n",
       "    <tr>\n",
       "      <th>23504</th>\n",
       "      <td>0.000342</td>\n",
       "      <td>CHEMBL1801574</td>\n",
       "      <td>Compound</td>\n",
       "    </tr>\n",
       "  </tbody>\n",
       "</table>\n",
       "<p>240 rows × 3 columns</p>\n",
       "</div>"
      ],
      "text/plain": [
       "        importance           node      type\n",
       "95        0.005228         A2A368   Protein\n",
       "40978     0.005007  CHEMBL2146121  Compound\n",
       "108997    0.004731        DB00704  Compound\n",
       "25693     0.003411  CHEMBL1830698  Compound\n",
       "7606      0.003267  CHEMBL1209746  Compound\n",
       "...            ...            ...       ...\n",
       "23851     0.000347  CHEMBL1807813  Compound\n",
       "49817     0.000346  CHEMBL2332365  Compound\n",
       "6651      0.000346  CHEMBL1173701  Compound\n",
       "19832     0.000344  CHEMBL1738804  Compound\n",
       "23504     0.000342  CHEMBL1801574  Compound\n",
       "\n",
       "[240 rows x 3 columns]"
      ]
     },
     "execution_count": 19,
     "metadata": {},
     "output_type": "execute_result"
    }
   ],
   "source": [
    "feature_importance_df.sort_values('importance', ascending = False).head(240).drop('omop', axis = 1)"
   ]
  },
  {
   "cell_type": "code",
   "execution_count": 21,
   "metadata": {},
   "outputs": [
    {
     "name": "stderr",
     "output_type": "stream",
     "text": [
      "/tmp/ipykernel_32110/1526204141.py:2: DeprecationWarning: DataFrameGroupBy.apply operated on the grouping columns. This behavior is deprecated, and in a future version of pandas the grouping columns will be excluded from the operation. Either pass `include_groups=False` to exclude the groupings or explicitly select the grouping columns after groupby to silence this warning.\n",
      "  nt_t20 = nt_feature_importance_df.groupby('type', group_keys=False).apply(lambda group: group.nlargest(20, 'importance')).drop('omop', axis = 1)\n"
     ]
    }
   ],
   "source": [
    "t240 = feature_importance_df.sort_values('importance', ascending = False).head(240).drop('omop', axis = 1)\n",
    "nt_t20 = nt_feature_importance_df.groupby('type', group_keys=False).apply(lambda group: group.nlargest(20, 'importance')).drop('omop', axis = 1)"
   ]
  },
  {
   "cell_type": "code",
   "execution_count": 22,
   "metadata": {},
   "outputs": [],
   "source": [
    "t240.to_csv('features/alcohol_top_features_general.csv', index = False)\n",
    "nt_t20.to_csv('features/alcohol_top_features_nt.csv', index = False)"
   ]
  },
  {
   "cell_type": "code",
   "execution_count": null,
   "metadata": {},
   "outputs": [],
   "source": []
  }
 ],
 "metadata": {
  "kernelspec": {
   "display_name": "sergio_rotation",
   "language": "python",
   "name": "python3"
  },
  "language_info": {
   "codemirror_mode": {
    "name": "ipython",
    "version": 3
   },
   "file_extension": ".py",
   "mimetype": "text/x-python",
   "name": "python",
   "nbconvert_exporter": "python",
   "pygments_lexer": "ipython3",
   "version": "3.9.20"
  }
 },
 "nbformat": 4,
 "nbformat_minor": 2
}
