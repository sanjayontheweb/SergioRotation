{
 "cells": [
  {
   "cell_type": "code",
   "execution_count": 13,
   "id": "0828152b-1889-4b69-9535-422272fc6ef8",
   "metadata": {
    "tags": []
   },
   "outputs": [],
   "source": [
    "import pymssql\n",
    "import pandas as pd\n",
    "import configparser"
   ]
  },
  {
   "cell_type": "code",
   "execution_count": 14,
   "id": "2934f1fd",
   "metadata": {},
   "outputs": [],
   "source": [
    "config = configparser.ConfigParser()\n",
    "config.read('db_config.ini')\n",
    "\n",
    "db_host = config['database']['host']\n",
    "db_user = config['database']['user']\n",
    "db_password = config['database']['password']\n",
    "db_name = config['database']['dbname']\n",
    "\n",
    "sql_conn = pymssql.connect(db_host, db_user, db_password, db_name)"
   ]
  },
  {
   "cell_type": "code",
   "execution_count": 16,
   "id": "2ef08095-95bf-4ede-8b9a-20b915925cb6",
   "metadata": {
    "tags": []
   },
   "outputs": [],
   "source": [
    "def get_data(query, columns = None):\n",
    "    \"\"\"Query in SQL STRING\n",
    "    Columns = List of strings representing the columns for the df\"\"\"\n",
    "    mycursor = sql_conn.cursor()\n",
    "    mycursor.execute(query)\n",
    "    result = mycursor.fetchall()\n",
    "    data_list = list(result)\n",
    "    if columns == None:\n",
    "        df = pd.DataFrame(data_list)\n",
    "        return df\n",
    "    else:\n",
    "        df = pd.DataFrame(data_list, columns= columns)\n",
    "        return df\n",
    "query_diagnosis_columns = \"\"\"SELECT *\n",
    "FROM syscolumns\n",
    "WHERE id=OBJECT_ID('CDW_NEW.deid_uf.DiagnosisEventFact') \"\"\"\n",
    "diagnosis_columns = get_data(query_diagnosis_columns)[0].to_list()\n",
    "query_ms= \"\"\"SELECT * FROM CDW_NEW.deid_uf.DiagnosisEventFact\n",
    "WHERE DiagnosisName LIKE '%multiple sclerosis%' \"\"\"\n",
    "ms_diagnosis = get_data(query_ms, diagnosis_columns)"
   ]
  }
 ],
 "metadata": {
  "kernelspec": {
   "display_name": "Python 3 (ipykernel)",
   "language": "python",
   "name": "python3"
  },
  "language_info": {
   "codemirror_mode": {
    "name": "ipython",
    "version": 3
   },
   "file_extension": ".py",
   "mimetype": "text/x-python",
   "name": "python",
   "nbconvert_exporter": "python",
   "pygments_lexer": "ipython3",
   "version": "3.11.9"
  }
 },
 "nbformat": 4,
 "nbformat_minor": 5
}
