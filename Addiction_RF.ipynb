{
 "cells": [
  {
   "cell_type": "code",
   "execution_count": 1,
   "metadata": {},
   "outputs": [],
   "source": [
    "import pandas as pd\n",
    "import numpy as np\n",
    "from sklearn.ensemble import AdaBoostClassifier\n",
    "from sklearn.ensemble import RandomForestClassifier\n",
    "\n",
    "from sklearn.model_selection import train_test_split\n",
    "from sklearn.metrics import accuracy_score\n",
    "from joblib import dump, load\n"
   ]
  },
  {
   "cell_type": "code",
   "execution_count": 2,
   "metadata": {},
   "outputs": [],
   "source": [
    "#Load node information\n",
    "\n",
    "spoke = np.load('../../psev_repo/PSEV_matrix')\n",
    "sep = np.load('../../psev_repo/PSEV_SEP_map')\n",
    "spoke_node = np.load('../../psev_repo/PSEV_SPOKE_node_map')\n",
    "\n",
    "spoke = pd.DataFrame(spoke, columns=spoke_node)\n",
    "spoke.index = sep\n",
    "spoke.index = spoke.index.map(lambda x: x.decode('utf-8') if isinstance(x, bytes) else x)\n",
    "spoke.columns = spoke.columns.map(lambda x: x.decode('utf-8') if isinstance(x, bytes) else x)\n",
    "\n",
    "node_type = np.load('../../psev_repo/node_type_list.npy')\n",
    "node_type = [x.decode('utf-8') if isinstance(x, bytes) else x for x in node_type]\n",
    "node_type = pd.DataFrame({\n",
    "    'node': spoke.columns,\n",
    "    'type': node_type\n",
    "})\n",
    "\n",
    "unique_node_types = node_type['type'].unique()"
   ]
  },
  {
   "cell_type": "code",
   "execution_count": 3,
   "metadata": {},
   "outputs": [],
   "source": [
    "#Translating conditions\n",
    "# disease_annotation = pd.read_csv('../../psev_repo/omop_sep_map/filtered_omop_conditions_to_spoke_extended_2.tsv', sep = '\\t')\n",
    "\n",
    "disease_annotation = pd.read_csv('../../gbellucci/spoke_linkers/omop2spoke_combined.tsv', sep = '\\t')\n",
    "disease_annotation.rename(columns={'OMOP': 'condition_concept_id'}, inplace=True)\n",
    "disease_annotation.rename(columns={'SPOKE': 'spoke_concept_id'}, inplace=True)\n",
    "\n",
    "spoke_to_omop_dict = dict(zip(disease_annotation['spoke_concept_id'], disease_annotation['condition_concept_id']))\n",
    "\n",
    "\n",
    "#Translating Drugs\n",
    "drug_annotation = pd.read_csv('../../psev_repo/omop_sep_map/filtered_omop_drug_exposure_to_spoke_extended.tsv', sep = '\\t')\n",
    "drug_annotation.rename(columns={'OMOP': 'condition_concept_id'}, inplace=True)\n",
    "drug_annotation.rename(columns={'SPOKE': 'spoke_concept_id'}, inplace=True)\n",
    "\n",
    "spoke_to_omop_dict.update(dict(zip(drug_annotation['spoke_concept_id'], drug_annotation['condition_concept_id'])))\n",
    "\n",
    "\n",
    "#Translating measurements\n",
    "lab_annotation = pd.read_csv('../../psev_repo/omop_sep_map/filtered_omop_measurement_to_spoke_extended.tsv', sep = '\\t')\n",
    "lab_annotation.rename(columns={'OMOP': 'condition_concept_id'}, inplace=True)\n",
    "lab_annotation.rename(columns={'SPOKE': 'spoke_concept_id'}, inplace=True)\n",
    "\n",
    "spoke_to_omop_dict.update(dict(zip(lab_annotation['spoke_concept_id'], lab_annotation['condition_concept_id'])))\n"
   ]
  },
  {
   "cell_type": "markdown",
   "metadata": {},
   "source": [
    "# Assemble the Tables in Pandas"
   ]
  },
  {
   "cell_type": "code",
   "execution_count": 4,
   "metadata": {},
   "outputs": [],
   "source": [
    "#First load the general top 30% PSEVs\n",
    "\n",
    "pat_ids = np.load('data/psevs/person_id_index.npy')\n",
    "columns = np.load('data/psevs/filtered_patient_psevs_columns.npy', allow_pickle=True)\n",
    "psevs = np.load('data/psevs/filtered_patient_psevs.npy')\n",
    "\n",
    "full_bio_cohort = pd.read_feather('data/opioid_cohort_details.feather')\n",
    "label_dict = dict(zip(full_bio_cohort[\"person_id\"], full_bio_cohort[\"dependent\"]))\n",
    "\n",
    "#Now load the node specific ones\n",
    "\n",
    "# Initialize empty arrays for columns and psevs\n",
    "nt_columns = None\n",
    "nt_psevs = None\n",
    "\n",
    "for nt in unique_node_types:\n",
    "    ind_nt_psevs = np.load(f'data/nt_psevs/filtered_patient_psevs_{nt}.npy')\n",
    "    ind_nt_columns = np.load(f'data/nt_psevs/filtered_patient_psevs_columns_{nt}.npy', allow_pickle=True)\n",
    "\n",
    "    # Concatenate columns and psevs\n",
    "    if nt_columns is None:\n",
    "        nt_columns = ind_nt_columns\n",
    "    else:\n",
    "        nt_columns = np.concatenate((nt_columns, ind_nt_columns))  # Add new columns\n",
    "\n",
    "    if nt_psevs is None:\n",
    "        nt_psevs = ind_nt_psevs\n",
    "    else:\n",
    "        nt_psevs = np.hstack((nt_psevs, ind_nt_psevs))  # Add new data horizontally"
   ]
  },
  {
   "cell_type": "code",
   "execution_count": 6,
   "metadata": {},
   "outputs": [
    {
     "data": {
      "text/plain": [
       "(116484,)"
      ]
     },
     "execution_count": 6,
     "metadata": {},
     "output_type": "execute_result"
    }
   ],
   "source": [
    "columns.shape"
   ]
  },
  {
   "cell_type": "code",
   "execution_count": 7,
   "metadata": {},
   "outputs": [
    {
     "data": {
      "text/plain": [
       "(116788,)"
      ]
     },
     "execution_count": 7,
     "metadata": {},
     "output_type": "execute_result"
    }
   ],
   "source": [
    "nt_columns.shape"
   ]
  },
  {
   "cell_type": "code",
   "execution_count": 8,
   "metadata": {},
   "outputs": [],
   "source": [
    "#Format tables for RF\n",
    "Y = np.array([label_dict[pid] for pid in pat_ids if pid in label_dict])\n",
    "X = psevs\n",
    "nt_X = nt_psevs"
   ]
  },
  {
   "cell_type": "code",
   "execution_count": 9,
   "metadata": {},
   "outputs": [],
   "source": [
    "def runGenericRF(X, Y, name):\n",
    "    # Split data into training and testing sets (80% train, 20% test)\n",
    "    X_train, X_test, Y_train, Y_test = train_test_split(X, Y, test_size=0.2, random_state=42)\n",
    "\n",
    "    # Initialize the Random Forest classifier\n",
    "    rf_clf = RandomForestClassifier(n_estimators=100, random_state=42)\n",
    "\n",
    "    # Train the model on the training data\n",
    "    rf_clf.fit(X_train, Y_train)\n",
    "\n",
    "    # Predict on the test data\n",
    "    Y_pred = rf_clf.predict(X_test)\n",
    "\n",
    "    # Calculate accuracy\n",
    "    accuracy = accuracy_score(Y_test, Y_pred)\n",
    "    print(f\"{name} Model accuracy: {accuracy:.2f}\")\n",
    "\n",
    "    dump(rf_clf, f'models/addiction_rf_model_{name}.joblib')\n",
    "\n",
    "    return accuracy, rf_clf"
   ]
  },
  {
   "cell_type": "markdown",
   "metadata": {},
   "source": [
    "# Train Models"
   ]
  },
  {
   "cell_type": "code",
   "execution_count": null,
   "metadata": {},
   "outputs": [
    {
     "name": "stdout",
     "output_type": "stream",
     "text": [
      "general Model accuracy: 0.94\n",
      "nt Model accuracy: 0.94\n"
     ]
    }
   ],
   "source": [
    "accuracy_general, model_general = runGenericRF(X, Y, \"general\")\n",
    "\n",
    "accuracy_nt, model_nt = runGenericRF(nt_X, Y, \"nt\")"
   ]
  },
  {
   "cell_type": "code",
   "execution_count": null,
   "metadata": {},
   "outputs": [],
   "source": [
    "# Load here\n",
    "model_general = load('models/addiction_rf_model_general.joblib')\n",
    "model_nt = load('models/addiction_rf_model_nt.joblib')"
   ]
  },
  {
   "cell_type": "code",
   "execution_count": 22,
   "metadata": {},
   "outputs": [],
   "source": [
    "feature_importance_df = pd.DataFrame({\n",
    "        'feature': columns,\n",
    "        'importance': model_general.feature_importances_\n",
    "    })\n",
    "    \n",
    "feature_importance_df = pd.merge(feature_importance_df, node_type, left_on = \"feature\", right_on = \"node\").drop(\"feature\", axis = 1).sort_values(by = 'importance', ascending = False)\n",
    "feature_importance_df['omop'] = feature_importance_df['node'].map(spoke_to_omop_dict)\n",
    "\n",
    "nt_feature_importance_df = pd.DataFrame({\n",
    "        'feature': nt_columns,\n",
    "        'importance': model_nt.feature_importances_\n",
    "    })\n",
    "    \n",
    "nt_feature_importance_df = pd.merge(nt_feature_importance_df, node_type, left_on = \"feature\", right_on = \"node\").drop(\"feature\", axis = 1).sort_values(by = 'importance', ascending = False)\n",
    "nt_feature_importance_df['omop'] = nt_feature_importance_df['node'].map(spoke_to_omop_dict)"
   ]
  },
  {
   "cell_type": "code",
   "execution_count": 23,
   "metadata": {},
   "outputs": [
    {
     "data": {
      "text/html": [
       "<div>\n",
       "<style scoped>\n",
       "    .dataframe tbody tr th:only-of-type {\n",
       "        vertical-align: middle;\n",
       "    }\n",
       "\n",
       "    .dataframe tbody tr th {\n",
       "        vertical-align: top;\n",
       "    }\n",
       "\n",
       "    .dataframe thead th {\n",
       "        text-align: right;\n",
       "    }\n",
       "</style>\n",
       "<table border=\"1\" class=\"dataframe\">\n",
       "  <thead>\n",
       "    <tr style=\"text-align: right;\">\n",
       "      <th></th>\n",
       "      <th>importance</th>\n",
       "      <th>node</th>\n",
       "      <th>type</th>\n",
       "      <th>omop</th>\n",
       "    </tr>\n",
       "  </thead>\n",
       "  <tbody>\n",
       "    <tr>\n",
       "      <th>114724</th>\n",
       "      <td>0.000663</td>\n",
       "      <td>Q9GZZ6</td>\n",
       "      <td>Protein</td>\n",
       "      <td>NaN</td>\n",
       "    </tr>\n",
       "    <tr>\n",
       "      <th>60307</th>\n",
       "      <td>0.000463</td>\n",
       "      <td>CHEMBL267841</td>\n",
       "      <td>Compound</td>\n",
       "      <td>NaN</td>\n",
       "    </tr>\n",
       "    <tr>\n",
       "      <th>74229</th>\n",
       "      <td>0.000354</td>\n",
       "      <td>CHEMBL3544968</td>\n",
       "      <td>Compound</td>\n",
       "      <td>NaN</td>\n",
       "    </tr>\n",
       "    <tr>\n",
       "      <th>76020</th>\n",
       "      <td>0.000321</td>\n",
       "      <td>CHEMBL368591</td>\n",
       "      <td>Compound</td>\n",
       "      <td>NaN</td>\n",
       "    </tr>\n",
       "    <tr>\n",
       "      <th>7170</th>\n",
       "      <td>0.000316</td>\n",
       "      <td>CHEMBL1200703</td>\n",
       "      <td>Compound</td>\n",
       "      <td>NaN</td>\n",
       "    </tr>\n",
       "  </tbody>\n",
       "</table>\n",
       "</div>"
      ],
      "text/plain": [
       "        importance           node      type  omop\n",
       "114724    0.000663         Q9GZZ6   Protein   NaN\n",
       "60307     0.000463   CHEMBL267841  Compound   NaN\n",
       "74229     0.000354  CHEMBL3544968  Compound   NaN\n",
       "76020     0.000321   CHEMBL368591  Compound   NaN\n",
       "7170      0.000316  CHEMBL1200703  Compound   NaN"
      ]
     },
     "execution_count": 23,
     "metadata": {},
     "output_type": "execute_result"
    }
   ],
   "source": [
    "feature_importance_df.head()"
   ]
  },
  {
   "cell_type": "code",
   "execution_count": 24,
   "metadata": {},
   "outputs": [
    {
     "data": {
      "text/html": [
       "<div>\n",
       "<style scoped>\n",
       "    .dataframe tbody tr th:only-of-type {\n",
       "        vertical-align: middle;\n",
       "    }\n",
       "\n",
       "    .dataframe tbody tr th {\n",
       "        vertical-align: top;\n",
       "    }\n",
       "\n",
       "    .dataframe thead th {\n",
       "        text-align: right;\n",
       "    }\n",
       "</style>\n",
       "<table border=\"1\" class=\"dataframe\">\n",
       "  <thead>\n",
       "    <tr style=\"text-align: right;\">\n",
       "      <th></th>\n",
       "      <th>importance</th>\n",
       "      <th>node</th>\n",
       "      <th>type</th>\n",
       "      <th>omop</th>\n",
       "    </tr>\n",
       "  </thead>\n",
       "  <tbody>\n",
       "    <tr>\n",
       "      <th>106589</th>\n",
       "      <td>0.000805</td>\n",
       "      <td>DOID:9975</td>\n",
       "      <td>Disease</td>\n",
       "      <td>436389.0</td>\n",
       "    </tr>\n",
       "    <tr>\n",
       "      <th>17631</th>\n",
       "      <td>0.000771</td>\n",
       "      <td>N0000175706</td>\n",
       "      <td>PharmacologicClass</td>\n",
       "      <td>NaN</td>\n",
       "    </tr>\n",
       "    <tr>\n",
       "      <th>106193</th>\n",
       "      <td>0.000766</td>\n",
       "      <td>DOID:809</td>\n",
       "      <td>Disease</td>\n",
       "      <td>432303.0</td>\n",
       "    </tr>\n",
       "    <tr>\n",
       "      <th>17507</th>\n",
       "      <td>0.000582</td>\n",
       "      <td>N0000006496</td>\n",
       "      <td>PharmacologicClass</td>\n",
       "      <td>3014404.0</td>\n",
       "    </tr>\n",
       "    <tr>\n",
       "      <th>2520</th>\n",
       "      <td>0.000561</td>\n",
       "      <td>339778</td>\n",
       "      <td>Gene</td>\n",
       "      <td>NaN</td>\n",
       "    </tr>\n",
       "  </tbody>\n",
       "</table>\n",
       "</div>"
      ],
      "text/plain": [
       "        importance         node                type       omop\n",
       "106589    0.000805    DOID:9975             Disease   436389.0\n",
       "17631     0.000771  N0000175706  PharmacologicClass        NaN\n",
       "106193    0.000766     DOID:809             Disease   432303.0\n",
       "17507     0.000582  N0000006496  PharmacologicClass  3014404.0\n",
       "2520      0.000561       339778                Gene        NaN"
      ]
     },
     "execution_count": 24,
     "metadata": {},
     "output_type": "execute_result"
    }
   ],
   "source": [
    "nt_feature_importance_df.head()"
   ]
  },
  {
   "cell_type": "code",
   "execution_count": 13,
   "metadata": {},
   "outputs": [
    {
     "data": {
      "text/html": [
       "<div>\n",
       "<style scoped>\n",
       "    .dataframe tbody tr th:only-of-type {\n",
       "        vertical-align: middle;\n",
       "    }\n",
       "\n",
       "    .dataframe tbody tr th {\n",
       "        vertical-align: top;\n",
       "    }\n",
       "\n",
       "    .dataframe thead th {\n",
       "        text-align: right;\n",
       "    }\n",
       "</style>\n",
       "<table border=\"1\" class=\"dataframe\">\n",
       "  <thead>\n",
       "    <tr style=\"text-align: right;\">\n",
       "      <th></th>\n",
       "      <th>importance</th>\n",
       "      <th>node</th>\n",
       "    </tr>\n",
       "    <tr>\n",
       "      <th>type</th>\n",
       "      <th></th>\n",
       "      <th></th>\n",
       "    </tr>\n",
       "  </thead>\n",
       "  <tbody>\n",
       "    <tr>\n",
       "      <th>BiologicalProcess</th>\n",
       "      <td>8</td>\n",
       "      <td>8</td>\n",
       "    </tr>\n",
       "    <tr>\n",
       "      <th>Compound</th>\n",
       "      <td>106858</td>\n",
       "      <td>106858</td>\n",
       "    </tr>\n",
       "    <tr>\n",
       "      <th>Disease</th>\n",
       "      <td>37</td>\n",
       "      <td>37</td>\n",
       "    </tr>\n",
       "    <tr>\n",
       "      <th>Gene</th>\n",
       "      <td>40</td>\n",
       "      <td>40</td>\n",
       "    </tr>\n",
       "    <tr>\n",
       "      <th>PharmacologicClass</th>\n",
       "      <td>140</td>\n",
       "      <td>140</td>\n",
       "    </tr>\n",
       "    <tr>\n",
       "      <th>Protein</th>\n",
       "      <td>9399</td>\n",
       "      <td>9399</td>\n",
       "    </tr>\n",
       "    <tr>\n",
       "      <th>Symptom</th>\n",
       "      <td>2</td>\n",
       "      <td>2</td>\n",
       "    </tr>\n",
       "  </tbody>\n",
       "</table>\n",
       "</div>"
      ],
      "text/plain": [
       "                    importance    node\n",
       "type                                  \n",
       "BiologicalProcess            8       8\n",
       "Compound                106858  106858\n",
       "Disease                     37      37\n",
       "Gene                        40      40\n",
       "PharmacologicClass         140     140\n",
       "Protein                   9399    9399\n",
       "Symptom                      2       2"
      ]
     },
     "execution_count": 13,
     "metadata": {},
     "output_type": "execute_result"
    }
   ],
   "source": [
    "feature_importance_df.groupby('type').count()"
   ]
  },
  {
   "cell_type": "code",
   "execution_count": 14,
   "metadata": {},
   "outputs": [
    {
     "data": {
      "text/html": [
       "<div>\n",
       "<style scoped>\n",
       "    .dataframe tbody tr th:only-of-type {\n",
       "        vertical-align: middle;\n",
       "    }\n",
       "\n",
       "    .dataframe tbody tr th {\n",
       "        vertical-align: top;\n",
       "    }\n",
       "\n",
       "    .dataframe thead th {\n",
       "        text-align: right;\n",
       "    }\n",
       "</style>\n",
       "<table border=\"1\" class=\"dataframe\">\n",
       "  <thead>\n",
       "    <tr style=\"text-align: right;\">\n",
       "      <th></th>\n",
       "      <th>importance</th>\n",
       "      <th>node</th>\n",
       "    </tr>\n",
       "    <tr>\n",
       "      <th>type</th>\n",
       "      <th></th>\n",
       "      <th></th>\n",
       "    </tr>\n",
       "  </thead>\n",
       "  <tbody>\n",
       "    <tr>\n",
       "      <th>Anatomy</th>\n",
       "      <td>3977</td>\n",
       "      <td>3977</td>\n",
       "    </tr>\n",
       "    <tr>\n",
       "      <th>BiologicalProcess</th>\n",
       "      <td>3947</td>\n",
       "      <td>3947</td>\n",
       "    </tr>\n",
       "    <tr>\n",
       "      <th>CellularComponent</th>\n",
       "      <td>517</td>\n",
       "      <td>517</td>\n",
       "    </tr>\n",
       "    <tr>\n",
       "      <th>Compound</th>\n",
       "      <td>86036</td>\n",
       "      <td>86036</td>\n",
       "    </tr>\n",
       "    <tr>\n",
       "      <th>Disease</th>\n",
       "      <td>2739</td>\n",
       "      <td>2739</td>\n",
       "    </tr>\n",
       "    <tr>\n",
       "      <th>Gene</th>\n",
       "      <td>5870</td>\n",
       "      <td>5870</td>\n",
       "    </tr>\n",
       "    <tr>\n",
       "      <th>MolecularFunction</th>\n",
       "      <td>1021</td>\n",
       "      <td>1021</td>\n",
       "    </tr>\n",
       "    <tr>\n",
       "      <th>Pathway</th>\n",
       "      <td>729</td>\n",
       "      <td>729</td>\n",
       "    </tr>\n",
       "    <tr>\n",
       "      <th>PharmacologicClass</th>\n",
       "      <td>524</td>\n",
       "      <td>524</td>\n",
       "    </tr>\n",
       "    <tr>\n",
       "      <th>Protein</th>\n",
       "      <td>10157</td>\n",
       "      <td>10157</td>\n",
       "    </tr>\n",
       "    <tr>\n",
       "      <th>SideEffect</th>\n",
       "      <td>1160</td>\n",
       "      <td>1160</td>\n",
       "    </tr>\n",
       "    <tr>\n",
       "      <th>Symptom</th>\n",
       "      <td>111</td>\n",
       "      <td>111</td>\n",
       "    </tr>\n",
       "  </tbody>\n",
       "</table>\n",
       "</div>"
      ],
      "text/plain": [
       "                    importance   node\n",
       "type                                 \n",
       "Anatomy                   3977   3977\n",
       "BiologicalProcess         3947   3947\n",
       "CellularComponent          517    517\n",
       "Compound                 86036  86036\n",
       "Disease                   2739   2739\n",
       "Gene                      5870   5870\n",
       "MolecularFunction         1021   1021\n",
       "Pathway                    729    729\n",
       "PharmacologicClass         524    524\n",
       "Protein                  10157  10157\n",
       "SideEffect                1160   1160\n",
       "Symptom                    111    111"
      ]
     },
     "execution_count": 14,
     "metadata": {},
     "output_type": "execute_result"
    }
   ],
   "source": [
    "nt_feature_importance_df.groupby('type').count()"
   ]
  },
  {
   "cell_type": "markdown",
   "metadata": {},
   "source": [
    "# Random Forest with ADAboost"
   ]
  },
  {
   "cell_type": "code",
   "execution_count": null,
   "metadata": {},
   "outputs": [
    {
     "name": "stderr",
     "output_type": "stream",
     "text": [
      "/pool0/home/sanjay.r/anaconda3/envs/sergio_rotation/lib/python3.9/site-packages/sklearn/ensemble/_weight_boosting.py:527: FutureWarning: The SAMME.R algorithm (the default) is deprecated and will be removed in 1.6. Use the SAMME algorithm to circumvent this warning.\n",
      "  warnings.warn(\n"
     ]
    },
    {
     "name": "stdout",
     "output_type": "stream",
     "text": [
      "Model accuracy: 0.92\n"
     ]
    }
   ],
   "source": [
    "# # Split data into training and testing sets (80% train, 20% test)\n",
    "# X_train, X_test, Y_train, Y_test = train_test_split(X, Y, test_size=0.2, random_state=42)\n",
    "\n",
    "# # Initialize the AdaBoost classifier\n",
    "# ada_clf = AdaBoostClassifier(n_estimators=50, random_state=42)\n",
    "\n",
    "# # Train the model on the training data\n",
    "# ada_clf.fit(X_train, Y_train)\n",
    "\n",
    "# # Predict on the test data\n",
    "# Y_pred = ada_clf.predict(X_test)\n",
    "\n",
    "# # Calculate accuracy\n",
    "# accuracy = accuracy_score(Y_test, Y_pred)\n",
    "# print(f\"Model accuracy: {accuracy:.2f}\")"
   ]
  },
  {
   "cell_type": "code",
   "execution_count": null,
   "metadata": {},
   "outputs": [
    {
     "data": {
      "text/plain": [
       "['addiction_adaboost_model.joblib']"
      ]
     },
     "execution_count": 10,
     "metadata": {},
     "output_type": "execute_result"
    }
   ],
   "source": [
    "# dump(ada_clf, 'models/addiction_adaboost_model.joblib')"
   ]
  },
  {
   "cell_type": "code",
   "execution_count": null,
   "metadata": {},
   "outputs": [],
   "source": []
  },
  {
   "cell_type": "code",
   "execution_count": null,
   "metadata": {},
   "outputs": [],
   "source": []
  },
  {
   "cell_type": "markdown",
   "metadata": {},
   "source": [
    "# Load Trained Models"
   ]
  },
  {
   "cell_type": "code",
   "execution_count": null,
   "metadata": {},
   "outputs": [],
   "source": [
    "rf = load('models/addiction_rf_model.joblib')\n",
    "ada = load('models/addiction_adaboost_model.joblib')\n",
    "embeddings = pd.read_feather(\"data/addiction_embeddings.feather\")"
   ]
  },
  {
   "cell_type": "code",
   "execution_count": null,
   "metadata": {},
   "outputs": [],
   "source": [
    "feature_importance_df = pd.DataFrame({\n",
    "        'feature': embeddings.drop('person_id', axis = 1).columns,\n",
    "        'importance': rf.feature_importances_\n",
    "    })\n",
    "    \n",
    "# Sort by importance and get the top 5 features\n",
    "top_5_features = feature_importance_df.sort_values(by='importance', ascending=False).head(5)\n"
   ]
  },
  {
   "cell_type": "code",
   "execution_count": null,
   "metadata": {},
   "outputs": [
    {
     "data": {
      "text/html": [
       "<div>\n",
       "<style scoped>\n",
       "    .dataframe tbody tr th:only-of-type {\n",
       "        vertical-align: middle;\n",
       "    }\n",
       "\n",
       "    .dataframe tbody tr th {\n",
       "        vertical-align: top;\n",
       "    }\n",
       "\n",
       "    .dataframe thead th {\n",
       "        text-align: right;\n",
       "    }\n",
       "</style>\n",
       "<table border=\"1\" class=\"dataframe\">\n",
       "  <thead>\n",
       "    <tr style=\"text-align: right;\">\n",
       "      <th></th>\n",
       "      <th>feature</th>\n",
       "      <th>importance</th>\n",
       "    </tr>\n",
       "  </thead>\n",
       "  <tbody>\n",
       "    <tr>\n",
       "      <th>0</th>\n",
       "      <td>1</td>\n",
       "      <td>0.0</td>\n",
       "    </tr>\n",
       "    <tr>\n",
       "      <th>1</th>\n",
       "      <td>10</td>\n",
       "      <td>0.0</td>\n",
       "    </tr>\n",
       "    <tr>\n",
       "      <th>2</th>\n",
       "      <td>100</td>\n",
       "      <td>0.0</td>\n",
       "    </tr>\n",
       "    <tr>\n",
       "      <th>3</th>\n",
       "      <td>1000</td>\n",
       "      <td>0.0</td>\n",
       "    </tr>\n",
       "    <tr>\n",
       "      <th>4</th>\n",
       "      <td>10000</td>\n",
       "      <td>0.0</td>\n",
       "    </tr>\n",
       "    <tr>\n",
       "      <th>...</th>\n",
       "      <td>...</td>\n",
       "      <td>...</td>\n",
       "    </tr>\n",
       "    <tr>\n",
       "      <th>389292</th>\n",
       "      <td>X6REB3</td>\n",
       "      <td>0.0</td>\n",
       "    </tr>\n",
       "    <tr>\n",
       "      <th>389293</th>\n",
       "      <td>X6REH9</td>\n",
       "      <td>0.0</td>\n",
       "    </tr>\n",
       "    <tr>\n",
       "      <th>389294</th>\n",
       "      <td>X6RGC9</td>\n",
       "      <td>0.0</td>\n",
       "    </tr>\n",
       "    <tr>\n",
       "      <th>389295</th>\n",
       "      <td>X6RLR1</td>\n",
       "      <td>0.0</td>\n",
       "    </tr>\n",
       "    <tr>\n",
       "      <th>389296</th>\n",
       "      <td>X6RLX0</td>\n",
       "      <td>0.0</td>\n",
       "    </tr>\n",
       "  </tbody>\n",
       "</table>\n",
       "<p>389297 rows × 2 columns</p>\n",
       "</div>"
      ],
      "text/plain": [
       "       feature  importance\n",
       "0            1         0.0\n",
       "1           10         0.0\n",
       "2          100         0.0\n",
       "3         1000         0.0\n",
       "4        10000         0.0\n",
       "...        ...         ...\n",
       "389292  X6REB3         0.0\n",
       "389293  X6REH9         0.0\n",
       "389294  X6RGC9         0.0\n",
       "389295  X6RLR1         0.0\n",
       "389296  X6RLX0         0.0\n",
       "\n",
       "[389297 rows x 2 columns]"
      ]
     },
     "execution_count": 27,
     "metadata": {},
     "output_type": "execute_result"
    }
   ],
   "source": [
    "feature_importance_df"
   ]
  },
  {
   "cell_type": "code",
   "execution_count": null,
   "metadata": {},
   "outputs": [
    {
     "data": {
      "text/html": [
       "<div>\n",
       "<style scoped>\n",
       "    .dataframe tbody tr th:only-of-type {\n",
       "        vertical-align: middle;\n",
       "    }\n",
       "\n",
       "    .dataframe tbody tr th {\n",
       "        vertical-align: top;\n",
       "    }\n",
       "\n",
       "    .dataframe thead th {\n",
       "        text-align: right;\n",
       "    }\n",
       "</style>\n",
       "<table border=\"1\" class=\"dataframe\">\n",
       "  <thead>\n",
       "    <tr style=\"text-align: right;\">\n",
       "      <th></th>\n",
       "      <th>feature</th>\n",
       "      <th>importance</th>\n",
       "    </tr>\n",
       "  </thead>\n",
       "  <tbody>\n",
       "    <tr>\n",
       "      <th>148557</th>\n",
       "      <td>CHEMBL2172455</td>\n",
       "      <td>0.001193</td>\n",
       "    </tr>\n",
       "    <tr>\n",
       "      <th>303852</th>\n",
       "      <td>CHEMBL603053</td>\n",
       "      <td>0.001071</td>\n",
       "    </tr>\n",
       "    <tr>\n",
       "      <th>268191</th>\n",
       "      <td>CHEMBL470820</td>\n",
       "      <td>0.000991</td>\n",
       "    </tr>\n",
       "    <tr>\n",
       "      <th>240377</th>\n",
       "      <td>CHEMBL383182</td>\n",
       "      <td>0.000929</td>\n",
       "    </tr>\n",
       "    <tr>\n",
       "      <th>166629</th>\n",
       "      <td>CHEMBL2348474</td>\n",
       "      <td>0.000851</td>\n",
       "    </tr>\n",
       "  </tbody>\n",
       "</table>\n",
       "</div>"
      ],
      "text/plain": [
       "              feature  importance\n",
       "148557  CHEMBL2172455    0.001193\n",
       "303852   CHEMBL603053    0.001071\n",
       "268191   CHEMBL470820    0.000991\n",
       "240377   CHEMBL383182    0.000929\n",
       "166629  CHEMBL2348474    0.000851"
      ]
     },
     "execution_count": 10,
     "metadata": {},
     "output_type": "execute_result"
    }
   ],
   "source": [
    "top_5_features"
   ]
  },
  {
   "cell_type": "code",
   "execution_count": null,
   "metadata": {},
   "outputs": [
    {
     "data": {
      "text/plain": [
       "array(['1', '10', '100', ..., 'X6RGC9', 'X6RLR1', 'X6RLX0'], dtype='<U14')"
      ]
     },
     "execution_count": 35,
     "metadata": {},
     "output_type": "execute_result"
    }
   ],
   "source": [
    "#Translating SPOKE to concept \n",
    "arr = np.load('../../psev_repo/PSEV_SPOKE_node_map')\n",
    "arr = np.array([x.decode(\"utf-8\") for x in arr])\n",
    "arr\n"
   ]
  },
  {
   "cell_type": "code",
   "execution_count": null,
   "metadata": {},
   "outputs": [],
   "source": [
    "#Translating SPOKE to concept \n",
    "arr = np.load('../../psev_repo/node_type_list.npy')\n",
    "arr = np.array([x.decode(\"utf-8\") for x in arr])\n",
    "arr\n"
   ]
  },
  {
   "cell_type": "code",
   "execution_count": null,
   "metadata": {},
   "outputs": [
    {
     "data": {
      "text/html": [
       "<div>\n",
       "<style scoped>\n",
       "    .dataframe tbody tr th:only-of-type {\n",
       "        vertical-align: middle;\n",
       "    }\n",
       "\n",
       "    .dataframe tbody tr th {\n",
       "        vertical-align: top;\n",
       "    }\n",
       "\n",
       "    .dataframe thead th {\n",
       "        text-align: right;\n",
       "    }\n",
       "</style>\n",
       "<table border=\"1\" class=\"dataframe\">\n",
       "  <thead>\n",
       "    <tr style=\"text-align: right;\">\n",
       "      <th></th>\n",
       "      <th>condition_concept_id</th>\n",
       "      <th>spoke_concept_id</th>\n",
       "    </tr>\n",
       "  </thead>\n",
       "  <tbody>\n",
       "  </tbody>\n",
       "</table>\n",
       "</div>"
      ],
      "text/plain": [
       "Empty DataFrame\n",
       "Columns: [condition_concept_id, spoke_concept_id]\n",
       "Index: []"
      ]
     },
     "execution_count": 23,
     "metadata": {},
     "output_type": "execute_result"
    }
   ],
   "source": [
    "drug_annotation[drug_annotation['spoke_concept_id'] == 'CHEMBL383182']"
   ]
  },
  {
   "cell_type": "code",
   "execution_count": null,
   "metadata": {},
   "outputs": [
    {
     "data": {
      "text/plain": [
       "0       307408.0\n",
       "1       346975.0\n",
       "2       302030.0\n",
       "3       350505.0\n",
       "4       365222.0\n",
       "          ...   \n",
       "6059    363366.0\n",
       "6060    372583.0\n",
       "6061    285815.0\n",
       "6062    349337.0\n",
       "6063    299372.0\n",
       "Name: CHEMBL383182, Length: 6064, dtype: float64"
      ]
     },
     "execution_count": 26,
     "metadata": {},
     "output_type": "execute_result"
    }
   ],
   "source": [
    "embeddings[\"CHEMBL383182\"]"
   ]
  },
  {
   "cell_type": "code",
   "execution_count": null,
   "metadata": {},
   "outputs": [],
   "source": []
  }
 ],
 "metadata": {
  "kernelspec": {
   "display_name": "sergio_rotation",
   "language": "python",
   "name": "python3"
  },
  "language_info": {
   "codemirror_mode": {
    "name": "ipython",
    "version": 3
   },
   "file_extension": ".py",
   "mimetype": "text/x-python",
   "name": "python",
   "nbconvert_exporter": "python",
   "pygments_lexer": "ipython3",
   "version": "3.9.20"
  }
 },
 "nbformat": 4,
 "nbformat_minor": 2
}
